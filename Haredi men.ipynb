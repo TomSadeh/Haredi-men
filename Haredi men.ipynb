{
 "cells": [
  {
   "cell_type": "markdown",
   "metadata": {},
   "source": [
    "Importing the required libraries."
   ]
  },
  {
   "cell_type": "code",
   "execution_count": null,
   "metadata": {},
   "outputs": [],
   "source": [
    "import pandas as pd"
   ]
  },
  {
   "cell_type": "markdown",
   "metadata": {},
   "source": [
    "Creating lists of the files and folders names to iterate. "
   ]
  },
  {
   "cell_type": "code",
   "execution_count": null,
   "metadata": {},
   "outputs": [],
   "source": [
    "names_list = ['H20141022data', 'H20151021data', 'H20161023data', 'H20171021data', 'H20181021data']\n",
    "folders_list = ['2014', '2015', '2016_new', '2017', '2018']\n",
    "\n"
   ]
  },
  {
   "cell_type": "markdown",
   "metadata": {},
   "source": [
    "Address you should change to your local folder."
   ]
  },
  {
   "cell_type": "code",
   "execution_count": null,
   "metadata": {},
   "outputs": [],
   "source": [
    "address_files = r'C:\\Users\\User\\Google Drive\\k_data\\CBS Households Expenditures Survey\\famexp_'"
   ]
  },
  {
   "cell_type": "markdown",
   "metadata": {},
   "source": [
    "Creating a DataFrame for the results."
   ]
  },
  {
   "cell_type": "code",
   "execution_count": null,
   "metadata": {},
   "outputs": [],
   "source": [
    "results = pd.DataFrame()"
   ]
  },
  {
   "cell_type": "markdown",
   "metadata": {},
   "source": [
    "The loop that iterates the files and saves the results to the DataFrame."
   ]
  },
  {
   "cell_type": "code",
   "execution_count": null,
   "metadata": {},
   "outputs": [],
   "source": [
    "for year, file, folder in zip(range(2014,2019), names_list, folders_list):\n",
    "    df_prat = pd.read_csv(address_files + folder + '\\\\' + file + 'prat.csv')\n",
    "    df_mb = pd.read_csv(address_files + folder + '\\\\' + file + 'mb.csv')\n",
    "    \n",
    "    #Filtering Haredi Households only.\n",
    "    df_mb = df_mb[(df_mb['Nationality'] == 1) & (df_mb['RamatDatiyut'] == 4)]\n",
    "    df_prat = df_prat[df_prat['misparMb'].isin(df_mb['misparmb'])]\n",
    "    \n",
    "    #Saving the length of the DataFrame that contains only Haredi men, and Haredi men at age 25-64.\n",
    "    results.loc['Haredi Males', str(year)] = len(df_prat[df_prat['min'] == 1])\n",
    "    if year == 2014:\n",
    "        results.loc['Haredi Males 25-64', str(year)] = len(df_prat[(df_prat['min'] == 1) & (df_prat['gil'] >= 6) & (df_prat['gil'] <= 14)])\n",
    "    else:\n",
    "        results.loc['Haredi Males 25-64', str(year)] = len(df_prat[(df_prat['min'] == 1) & (df_prat['age_group'] >= 6) & (df_prat['age_group'] <= 14)])"
   ]
  },
  {
   "cell_type": "markdown",
   "metadata": {},
   "source": [
    "Change the address to export the results. Do not erase the 'r' which comes before the address."
   ]
  },
  {
   "cell_type": "code",
   "execution_count": null,
   "metadata": {},
   "outputs": [],
   "source": [
    "address_results = r''"
   ]
  },
  {
   "cell_type": "markdown",
   "metadata": {},
   "source": [
    "Exporting the results."
   ]
  },
  {
   "cell_type": "code",
   "execution_count": null,
   "metadata": {},
   "outputs": [],
   "source": [
    "results.to_csv(address_results)"
   ]
  }
 ],
 "metadata": {
  "kernelspec": {
   "display_name": "Python 3",
   "language": "python",
   "name": "python3"
  },
  "language_info": {
   "codemirror_mode": {
    "name": "ipython",
    "version": 3
   },
   "file_extension": ".py",
   "mimetype": "text/x-python",
   "name": "python",
   "nbconvert_exporter": "python",
   "pygments_lexer": "ipython3",
   "version": "3.8.3"
  }
 },
 "nbformat": 4,
 "nbformat_minor": 4
}
